{
 "cells": [
  {
   "cell_type": "code",
   "execution_count": null,
   "id": "16b6f9f7-d20a-4c4e-89e1-de445bf2883c",
   "metadata": {},
   "outputs": [],
   "source": [
    "# Kütüphaneler\n",
    "import pandas as pd\n",
    "import os\n",
    "import glob\n",
    "import numpy as np\n",
    "import matplotlib.pyplot as plt \n",
    "import seaborn as sns"
   ]
  },
  {
   "cell_type": "code",
   "execution_count": null,
   "id": "cb30b888-9bb0-48d6-941f-77a1a2259e63",
   "metadata": {},
   "outputs": [],
   "source": [
    "# Veri setini yükleyin\n",
    "df = pd.read_csv(\"kc_house_data.csv\")\n",
    "\n",
    "# Veri setinin boyutunu kontrol edin\n",
    "print(f\"Veri seti boyutu: {df.shape}\")\n",
    "\n",
    "# Eksik değerleri kontrol edin\n",
    "print(f\"Eksik değerler: {df.isnull().sum().sum()}\")"
   ]
  },
  {
   "cell_type": "code",
   "execution_count": 12,
   "id": "787538e6-227a-45bb-9a97-bfa0058b2937",
   "metadata": {},
   "outputs": [],
   "source": [
    "# ----------------------------\n",
    "# Veri Ön İşleme\n",
    "# ----------------------------\n",
    "\n",
    "# Date sütununu datetime formatına dönüştürme\n",
    "df['date'] = pd.to_datetime(df['date'])\n",
    "df['year'] = df['date'].dt.year\n",
    "df['month'] = df['date'].dt.month\n",
    "df['day'] = df['date'].dt.day\n",
    "\n",
    "# Ev yaşı hesaplama\n",
    "df['house_age'] = 2023 - df['yr_built']\n",
    "\n",
    "# One-Hot Encoding (OHE) - zipcode için\n",
    "# df = pd.get_dummies(df, columns=['zipcode'], drop_first=True)"
   ]
  },
  {
   "cell_type": "code",
   "execution_count": null,
   "id": "be038074-fc81-479f-a7ea-a655ab2ebd57",
   "metadata": {},
   "outputs": [],
   "source": [
    "# ----------------------------\n",
    "# Veri Görselleştirme\n",
    "# ----------------------------\n",
    "\n",
    "# Ev Fiyatları Dağılımı\n",
    "plt.figure(figsize=(12, 8))\n",
    "sns.histplot(df['price'], kde=True)\n",
    "plt.title('Ev Fiyatları Dağılımı')\n",
    "plt.show()\n",
    "\n",
    "# Korelasyon analizi (OHE'den sonra yapılmalı)\n",
    "plt.figure(figsize=(15, 10))\n",
    "numeric_df = df.select_dtypes(include=[np.number])\n",
    "sns.heatmap(numeric_df.corr(), annot=True, cmap='coolwarm', linewidths=0.5)\n",
    "plt.title('Değişkenler Arası Korelasyon')\n",
    "plt.show()\n",
    "\n",
    "# Fiyat ve diğer özellikler arasındaki ilişki \n",
    "plt.figure(figsize=(20, 15))\n",
    "plt.subplot(2, 3, 1)\n",
    "sns.scatterplot(x='sqft_living', y='price', data=df)\n",
    "plt.title('Yaşam Alanı - Fiyat')\n",
    "\n",
    "plt.subplot(2, 3, 2)\n",
    "sns.scatterplot(x='grade', y='price', data=df)\n",
    "plt.title('Kalite Derecesi - Fiyat')\n",
    "\n",
    "# ----------------------------\n",
    "# Eğitim ve test verisine ayırma\n",
    "# ----------------------------\n",
    "from sklearn.model_selection import train_test_split\n",
    "X = df.drop(['price', 'id', 'date'], axis=1)\n",
    "y = df['price']\n",
    "x_train, x_test, y_train, y_test = train_test_split(X, y, test_size=0.2, random_state=42)\n",
    "# Model eğitimi\n",
    "# ...\n",
    "\n",
    "# Model değerlendirmesi\n",
    "# ..."
   ]
  },
  {
   "cell_type": "code",
   "execution_count": 27,
   "id": "86c61f9d-e15a-4b22-bb0e-a5c41863c271",
   "metadata": {},
   "outputs": [
    {
     "name": "stdout",
     "output_type": "stream",
     "text": [
      "Doğrusal Regresyon eğitiliyor...\n",
      "Doğrusal Regresyon - MAE: 126929.17, MSE: 44951491944.93, RMSE: 212017.67, R2: 0.7027\n",
      "Ridge Regresyon eğitiliyor...\n",
      "Ridge Regresyon - MAE: 126927.37, MSE: 44951804818.32, RMSE: 212018.41, R2: 0.7027\n",
      "Lasso Regresyon eğitiliyor...\n"
     ]
    },
    {
     "name": "stderr",
     "output_type": "stream",
     "text": [
      "C:\\Users\\hp\\anaconda3\\Lib\\site-packages\\sklearn\\linear_model\\_coordinate_descent.py:695: ConvergenceWarning: Objective did not converge. You might want to increase the number of iterations, check the scale of the features or consider increasing regularisation. Duality gap: 5.579e+13, tolerance: 2.259e+11\n",
      "  model = cd_fast.enet_coordinate_descent(\n"
     ]
    },
    {
     "name": "stdout",
     "output_type": "stream",
     "text": [
      "Lasso Regresyon - MAE: 126929.18, MSE: 44951497729.15, RMSE: 212017.68, R2: 0.7027\n",
      "ElasticNet eğitiliyor...\n",
      "ElasticNet - MAE: 125746.22, MSE: 45308527069.61, RMSE: 212858.00, R2: 0.7003\n",
      "SVR eğitiliyor...\n",
      "SVR - MAE: 229344.17, MSE: 160777128599.22, RMSE: 400970.23, R2: -0.0635\n",
      "KNN Regressor eğitiliyor...\n"
     ]
    },
    {
     "name": "stderr",
     "output_type": "stream",
     "text": [
      "C:\\Users\\hp\\anaconda3\\Lib\\site-packages\\joblib\\externals\\loky\\backend\\context.py:136: UserWarning: Could not find the number of physical cores for the following reason:\n",
      "[WinError 2] Sistem belirtilen dosyayı bulamıyor\n",
      "Returning the number of logical cores instead. You can silence this warning by setting LOKY_MAX_CPU_COUNT to the number of cores you want to use.\n",
      "  warnings.warn(\n",
      "  File \"C:\\Users\\hp\\anaconda3\\Lib\\site-packages\\joblib\\externals\\loky\\backend\\context.py\", line 257, in _count_physical_cores\n",
      "    cpu_info = subprocess.run(\n",
      "               ^^^^^^^^^^^^^^^\n",
      "  File \"C:\\Users\\hp\\anaconda3\\Lib\\subprocess.py\", line 548, in run\n",
      "    with Popen(*popenargs, **kwargs) as process:\n",
      "         ^^^^^^^^^^^^^^^^^^^^^^^^^^^\n",
      "  File \"C:\\Users\\hp\\anaconda3\\Lib\\subprocess.py\", line 1026, in __init__\n",
      "    self._execute_child(args, executable, preexec_fn, close_fds,\n",
      "  File \"C:\\Users\\hp\\anaconda3\\Lib\\subprocess.py\", line 1538, in _execute_child\n",
      "    hp, ht, pid, tid = _winapi.CreateProcess(executable, args,\n",
      "                       ^^^^^^^^^^^^^^^^^^^^^^^^^^^^^^^^^^^^^^^\n"
     ]
    },
    {
     "name": "stdout",
     "output_type": "stream",
     "text": [
      "KNN Regressor - MAE: 100048.45, MSE: 35181209948.32, RMSE: 187566.55, R2: 0.7673\n",
      "Karar Ağacı eğitiliyor...\n",
      "Karar Ağacı - MAE: 98999.79, MSE: 41460791328.85, RMSE: 203619.23, R2: 0.7257\n",
      "Rastgele Orman eğitiliyor...\n"
     ]
    },
    {
     "name": "stderr",
     "output_type": "stream",
     "text": [
      "\n",
      "KeyboardInterrupt\n",
      "\n"
     ]
    }
   ],
   "source": [
    "# Regresyon için Gerekli Kütüphaneler\n",
    "from sklearn.preprocessing import StandardScaler\n",
    "from sklearn.linear_model import LinearRegression,Ridge,Lasso,ElasticNet\n",
    "from sklearn.svm import SVR\n",
    "from sklearn.neighbors import KNeighborsRegressor\n",
    "from sklearn.tree import DecisionTreeRegressor\n",
    "from sklearn.ensemble import RandomForestRegressor,GradientBoostingRegressor\n",
    "from sklearn.metrics import mean_absolute_error,mean_squared_error,r2_score\n",
    "\n",
    "# Özellik Ölçeklendirme\n",
    "scaler = StandardScaler()\n",
    "X_train_scaled = scaler.fit_transform(x_train)\n",
    "X_test_scaled = scaler.transform(x_test)\n",
    "\n",
    "# Modellerin Tanımlanması\n",
    "models = {\n",
    "    'Doğrusal Regresyon': LinearRegression(),\n",
    "    'Ridge Regresyon': Ridge(alpha=1.0),\n",
    "    'Lasso Regresyon': Lasso(alpha=0.1, max_iter=10000),\n",
    "    'ElasticNet': ElasticNet(alpha=0.1, max_iter=10000),\n",
    "    'SVR': SVR(),\n",
    "    'KNN Regressor': KNeighborsRegressor(n_neighbors=5),\n",
    "    'Karar Ağacı': DecisionTreeRegressor(max_depth=10, random_state=42),\n",
    "    'Rastgele Orman': RandomForestRegressor(n_estimators=100, random_state=42),\n",
    "    'Gradyan Arttırma': GradientBoostingRegressor(n_estimators=100, random_state=42)\n",
    "}\n",
    "\n",
    "# Hangi modellerin ölçeklendirme gerektirdiğini belirle\n",
    "scaled_models = {\n",
    "    'Doğrusal Regresyon',\n",
    "    'Ridge Regresyon',\n",
    "    'Lasso Regresyon',\n",
    "    'ElasticNet',\n",
    "    'SVR',\n",
    "    'KNN Regressor'\n",
    "}\n",
    "\n",
    "# Model performans karşılaştırma için sonuçlar\n",
    "results = {}\n",
    "\n",
    "# Model Eğitimi ve Değerlendirme\n",
    "for name, model in models.items():\n",
    "    print(f\"{name} eğitiliyor...\")\n",
    "\n",
    "    if name in scaled_models:\n",
    "        model.fit(X_train_scaled, y_train)\n",
    "        y_pred = model.predict(X_test_scaled)\n",
    "    else:\n",
    "        model.fit(x_train, y_train)\n",
    "        y_pred = model.predict(x_test)\n",
    "\n",
    "    # Performans hesaplama\n",
    "    mae = mean_absolute_error(y_test, y_pred)\n",
    "    mse = mean_squared_error(y_test, y_pred)\n",
    "    rmse = np.sqrt(mse)\n",
    "    r2 = r2_score(y_test, y_pred)\n",
    "\n",
    "    results[name] = {\n",
    "        'MAE': mae,\n",
    "        'MSE': mse,\n",
    "        'RMSE': rmse,\n",
    "        'R2': r2\n",
    "    }\n",
    "\n",
    "    print(f\"{name} - MAE: {mae:.2f}, MSE: {mse:.2f}, RMSE: {rmse:.2f}, R2: {r2:.4f}\")\n",
    "\n",
    "# En iyi modeli R2 skoruna göre seç\n",
    "best_model_name = max(results, key=lambda x: results[x]['R2'])\n",
    "print(f\"\\n🚀 En iyi model: {best_model_name} (R2: {results[best_model_name]['R2']:.4f})\")"
   ]
  }
 ],
 "metadata": {
  "kernelspec": {
   "display_name": "Python [conda env:base] *",
   "language": "python",
   "name": "conda-base-py"
  },
  "language_info": {
   "codemirror_mode": {
    "name": "ipython",
    "version": 3
   },
   "file_extension": ".py",
   "mimetype": "text/x-python",
   "name": "python",
   "nbconvert_exporter": "python",
   "pygments_lexer": "ipython3",
   "version": "3.12.7"
  }
 },
 "nbformat": 4,
 "nbformat_minor": 5
}
